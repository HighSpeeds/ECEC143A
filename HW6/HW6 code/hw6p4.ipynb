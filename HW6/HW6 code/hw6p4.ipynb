{
 "cells": [
  {
   "cell_type": "markdown",
   "metadata": {},
   "source": [
    "## Homework 6, Problem 4 on Kalman filter\n",
    "\n",
    "ECE C143A/C243A, Spring Quarter 2022, Prof. J.C. Kao, TAs T. Monsoor and W. Yu"
   ]
  },
  {
   "cell_type": "markdown",
   "metadata": {},
   "source": [
    "Total: 35 points"
   ]
  },
  {
   "cell_type": "markdown",
   "metadata": {},
   "source": [
    "In this question, we'll implement a Kalman filter for decoding neural activity.\n",
    "This will specifically be a velocity Kalman filter.\n",
    "We will be working with the same dataset that we used in prior questions.\n",
    "To begin, we'll first learn the dynamical system.\n",
    "Use the first $400$ trials as training data and the remaining $106$ trials as testing data."
   ]
  },
  {
   "cell_type": "code",
   "execution_count": 2,
   "metadata": {},
   "outputs": [],
   "source": [
    "# Importing the necessary packages and the data\n",
    "import numpy as np\n",
    "import matplotlib.pyplot as plt\n",
    "import scipy.special\n",
    "import scipy.io as sio\n",
    "import math\n",
    "import nsp as nsp\n",
    "import pdb\n",
    "# Load matplotlib images inline\n",
    "%matplotlib inline\n",
    "# Reloading any code written in external .py files.\n",
    "%load_ext autoreload\n",
    "%autoreload 2\n",
    "data = sio.loadmat('JR_2015-12-04_truncated2.mat') # load the .mat file.\n",
    "R = data['R'][0,:]"
   ]
  },
  {
   "cell_type": "markdown",
   "metadata": {},
   "source": [
    "### (a) (4 points)  The A-matrix.\n",
    "We will first learn the parameters of a linear dynamical system.\n",
    "We'll begin with the $\\mathbf{A}$ matrix, which should obey laws of physics.\n",
    "Our linear dynamical system state at time $k$ is be:\n",
    "$$\\mathbf{x}_k = \\left[ \\begin{array}{c} p_x(k) \\\\ p_y(k) \\\\ v_x(k) \\\\ v_y(k) \\\\ 1 \\end{array} \\right]\n",
    "$$\n",
    "where $p_x(k), p_y(k), v_x(k),$ and $v_y(k)$ are the $x$-position, $y$-position, $x$-velocity, and $y$-velocity, respectively, at time $k$.\n",
    "We'll worry about only deriving an update law for the velocities.\n",
    "\n",
    "Write what the $\\mathbf{A}$ matrix looks like below if if $v_{xx} = 0.7$, $v_{yy} = 0.7$, $v_{yx} = 0$, and $v_{xy} = 0$ and we are using a bin width of $25$ ms.\n",
    "Recall that the units of position are mm and assume that the velocities you are calculating are in m/s or equivalently mm/ms.\n"
   ]
  },
  {
   "cell_type": "markdown",
   "metadata": {},
   "source": [
    "Answer:\n",
    "$$A=\\left[\\begin{array}{cc} 1 & 0 & 25 & 0 & 0\\\\\n",
    "                        0 & 1 & 0 & 25 &0\\\\\n",
    "                        0 & 0 & 0.7 & 0 &0\\\\\n",
    "                        0 & 0 & 0& 0.7& 0\\\\\n",
    "                        0 & 0 & 0 & 0 & 1 \\end{array}\\right]$$\n"
   ]
  },
  {
   "cell_type": "markdown",
   "metadata": {},
   "source": [
    "### (b) (4 points) Fit the A-matrix.\n",
    "Calculate the hand velocities in $25$ ms intervals by using a first order Euler approximation, i.e.,\n",
    "\n",
    "$$v(t) = \\frac{cursorPos[t+25] -cursorPos[t]}{25}$$\n",
    "\n",
    "Find and report the values in the $\\mathbf{A}$ matrix.\n",
    "To be clear, you should only be finding a matrix\n",
    "$$\n",
    "\\mathbf{A}_s = \\left[ \\begin{array}{cc} v_{xx} & v_{xy} \\\\ v_{yx} & v_{yy} \\end{array} \\right]\n",
    "$$\n",
    "and imputing those values into an $\\mathbf{A}$ matrix that obeys physics."
   ]
  },
  {
   "cell_type": "code",
   "execution_count": 3,
   "metadata": {},
   "outputs": [
    {
     "data": {
      "text/plain": [
       "array([[ 0.77976907, -0.00741686],\n",
       "       [ 0.0096132 ,  0.78079831]])"
      ]
     },
     "execution_count": 3,
     "metadata": {},
     "output_type": "execute_result"
    }
   ],
   "source": [
    "#====================================================#\n",
    "# YOUR CODE HERE:\n",
    "#   Fit and report the 5x5 matrix A.\n",
    "positions=scipy.sparse.hstack(R[0:400]['cursorPos'])\n",
    "positions= scipy.sparse.csc_matrix(positions)\n",
    "positions_binned=nsp.bin(positions,25,\"first\")[:2].astype(float)\n",
    "\n",
    "v=(positions_binned[:,1:]-positions_binned[:,:-1])/25\n",
    "\n",
    "A=np.matmul(v[:,1:],scipy.linalg.pinv(v[:,:-1]))\n",
    "A\n",
    "#====================================================#\n",
    "# END YOUR CODE\n",
    "#====================================================#  "
   ]
  },
  {
   "cell_type": "markdown",
   "metadata": {},
   "source": [
    "Answer:\n",
    "$$A=\\left[\\begin{array}{cc} 1 & 0 & 25 & 0 & 0\\\\\n",
    "                        0 & 1 & 0 & 25 &0\\\\\n",
    "                        0 & 0 & 0.77976907& -0.00741686 &0\\\\\n",
    "                        0 & 0 & 0.0096132 &  0.78079831 &0 \\\\\n",
    "                        0 & 0 & 0 & 0 & 1 \\end{array}\\right]$$\n"
   ]
  },
  {
   "cell_type": "markdown",
   "metadata": {},
   "source": [
    "### (c) (4 points) Fit the C matrix.\n",
    "\n",
    "For this question, we will only be using `R[i]['spikeRaster']` for the neural data (i.e., ignore `R[i].['spikeRaster2']`).\n",
    "Calculate the $\\mathbf{C}$ matrix by only finding the coefficients mapping velocity (and the constant 1) to the neural data.\n",
    "(We do not calculate the coefficients corresponding to the mapping of position to neural data, since we are only decoding velocity.\n",
    "In a position-velocity Kalman filter that decodes both position and velocity, we would fit these coefficients.)\n",
    "Concretely, find a matrix $\\mathbf{C}_s$, which is $96 \\times 3$ and is the least-squares optimal mapping from:\n",
    "$$\n",
    "\\mathbf{y}_k = \\mathbf{C}_s \\left[ \\begin{array}{c} v^x_k \\\\ v^y_k \\\\ 1 \\end{array} \\right]\n",
    "$$\n",
    "Then, impute the values of $\\mathbf{C_s}$ into the matrix $\\mathbf{C}$, which initialized to be a matrix of zeros of size $96 \\times 5$.  \n",
    "Thus, the first two columns of $\\mathbf{C}$ should be all zeros, but the last three columns of $\\mathbf{C}$ will be populated with the values in $\\mathbf{C}_s$.\n",
    "Bin the neural data in non-overlapping $25$ ms bins.\n",
    "Find the $\\mathbf{C}$ matrix and report the value of `np.sum(C,0)`.\n"
   ]
  },
  {
   "cell_type": "code",
   "execution_count": 4,
   "metadata": {},
   "outputs": [
    {
     "name": "stdout",
     "output_type": "stream",
     "text": [
      "[ 0.          0.         -4.49938145  1.70531105 40.19265294]\n"
     ]
    }
   ],
   "source": [
    "## Part c\n",
    "#====================================================#\n",
    "# YOUR CODE HERE:\n",
    "#   Fit the C matrix, and report np.sum(C, 0)\n",
    "#====================================================#\n",
    "positions=scipy.sparse.hstack(R[0:400]['cursorPos'])\n",
    "positions= scipy.sparse.csc_matrix(positions)\n",
    "positions_binned=nsp.bin(positions,25,\"first\")[:2].astype(float)\n",
    "\n",
    "v=(positions_binned[:,1:]-positions_binned[:,:-1])/25\n",
    "\n",
    "X=np.vstack((v,np.ones(v.shape[1])))\n",
    "#print(X.shape)\n",
    "\n",
    "\n",
    "spikes=scipy.sparse.hstack(R[0:400]['spikeRaster'])\n",
    "spikes= scipy.sparse.csc_matrix(spikes)\n",
    "spikes_binned=nsp.bin(spikes,25,\"sum\").astype(float)\n",
    "\n",
    "#print(spikes_binned.shape)\n",
    "Cs=np.matmul(spikes_binned,scipy.linalg.pinv(X))\n",
    "#print(Cs.shape)\n",
    "C=np.hstack((np.zeros((Cs.shape[0],2)),Cs))\n",
    "print(np.sum(C,0))\n",
    "#====================================================#\n",
    "# END YOUR CODE\n",
    "#====================================================#  "
   ]
  },
  {
   "cell_type": "markdown",
   "metadata": {},
   "source": [
    "Answer:`[ 0., 0., -4.49938145, 1.70531105, 40.19265294]`\n"
   ]
  },
  {
   "cell_type": "markdown",
   "metadata": {},
   "source": [
    "### (d) (4 points) Fit the W matrix.\n",
    "\n",
    "Find the $\\mathbf{W}$ using the $\\mathbf{A}$ matrix calculated in part (b).\n",
    "We will only want to calculate an uncertainty over the velocity, and not on the positions.\n",
    "Thus, you will perform the covariance calculation over the velocities, resulting in a $2 \\times 2$ matrix $\\mathbf{W}_s$.  \n",
    "You will insert these values into the correct location in the $\\mathbf{W}$ matrix, which is everywhere else $0$.\n",
    "Report the $\\mathbf{W}$ matrix."
   ]
  },
  {
   "cell_type": "code",
   "execution_count": 16,
   "metadata": {},
   "outputs": [
    {
     "data": {
      "text/plain": [
       "array([[ 0.01151216, -0.00079399],\n",
       "       [-0.00079399,  0.01212474]])"
      ]
     },
     "execution_count": 16,
     "metadata": {},
     "output_type": "execute_result"
    }
   ],
   "source": [
    "## Part d\n",
    "#====================================================#\n",
    "# YOUR CODE HERE:\n",
    "#   Fit and report the W matrix.\n",
    "#====================================================#\n",
    "W=(np.matmul(v[:,1:]-np.matmul(A,v[:,:-1]),(v[:,1:]-np.matmul(A,v[:,:-1])).T))/(v.shape[1]-1)\n",
    "W\n",
    "#====================================================#\n",
    "# END YOUR CODE\n",
    "#====================================================#  "
   ]
  },
  {
   "cell_type": "markdown",
   "metadata": {},
   "source": [
    "Answer:```[[ 0.01151216, -0.00079399],\n",
    "       [-0.00079399,  0.01212474]]```\n"
   ]
  },
  {
   "cell_type": "markdown",
   "metadata": {},
   "source": [
    "### (e) (4 points) Fit the Q matrix.\n",
    "Find the $\\mathbf{Q}$ matrix using the $\\mathbf{C}$ matrix calculated in part (c).\n",
    "Submit a plot of Q using `plt.imshow(Q)`.\n",
    "        \n"
   ]
  },
  {
   "cell_type": "code",
   "execution_count": 15,
   "metadata": {},
   "outputs": [
    {
     "data": {
      "text/plain": [
       "<matplotlib.image.AxesImage at 0x7fae7315bb80>"
      ]
     },
     "execution_count": 15,
     "metadata": {},
     "output_type": "execute_result"
    },
    {
     "data": {
      "image/png": "[encoded data removed]",
      "text/plain": [
       "<Figure size 432x288 with 1 Axes>"
      ]
     },
     "metadata": {
      "needs_background": "light"
     },
     "output_type": "display_data"
    }
   ],
   "source": [
    "## Part e\n",
    "#====================================================#\n",
    "# YOUR CODE HERE:\n",
    "#   Fit the Q matrix, and visuailze it using plt.imshow(Q)\n",
    "#====================================================#\n",
    "Q=np.matmul(spikes_binned-np.matmul(C,X),(spikes_binned-np.matmul(C,X)).T)\n",
    "plt.imshow(Q)\n",
    "#====================================================#\n",
    "# END YOUR CODE\n",
    "#====================================================#  "
   ]
  },
  {
   "cell_type": "markdown",
   "metadata": {},
   "source": [
    "Answer:\n",
    "\n"
   ]
  },
  {
   "cell_type": "markdown",
   "metadata": {},
   "source": [
    "### (f) (9 points) Write the KF recursion.\n",
    "Write a function, `KalmanSteadyState.m` that accepts as input the $\\mathbf{A, W, C}$, and $\\mathbf{Q}$ matrices and returns $\\Sigma_\\infty$, $\\mathbf{K}_\\infty$, $\\mathbf{M}_1$ and $\\mathbf{M}_2$.\n",
    "We are going to use an assumption made in Gilja*, Nuyujukian* et al., Nature Neuroscience 2012, which is that the monkey sees the cursor whenever it is updated and therefore has no uncertainty in its position.\n",
    "Thus, in your recursion, make the following modification in the recursion: \n",
    "If `S` denotes $\\Sigma_{k|1:k-1}$, then immediately after calculating `S`, set:\n",
    "$$\n",
    "\\mathbf{S[0:2,:] = 0}$$\n",
    "$$\n",
    "\\mathbf{S[:,0:2] = 0}$$\n",
    "This removes all uncertainty in the cursor's position.\n",
    "Use a while loop with the following convergence criterion:`np.max(np.abs(it_d)) > tol`\n",
    "where `it_d` measures the difference between M1 and M2's entries' between current value and updated value after iteration.\n",
    "and $\\mathbf{tol = 10^{-13}}$.\n",
    "Submit the values of the $\\mathbf{M1}$ matrix and the value of `np.sum(M2,1)`.  "
   ]
  },
  {
   "cell_type": "code",
   "execution_count": 7,
   "metadata": {},
   "outputs": [],
   "source": [
    "def KalmanSteadyState(A, W, C, Q):\n",
    "\n",
    "    S_p = np.zeros((5,5)) # previous state estimate cov\n",
    "    S_c = np.zeros((5,5)) # current state estimate cov\n",
    "    M1_p = np.zeros((5,5)) # previous M1\n",
    "    M1_c = np.ones((5,5)) # current M1\n",
    "    M2_p = np.zeros((5,96)) # previous M2\n",
    "    M2_c = np.ones((5,96)) # current M2\n",
    "    tol = math.pow(10, -13)\n",
    "    count = 0\n",
    "    \n",
    "    # Stopping criterion.\n",
    "    it_d = np.hstack((M1_c.flatten() - M1_p.flatten(),  M2_c.flatten()-M2_p.flatten()))\n",
    "\n",
    "    while(np.max(np.abs(it_d)) > tol):\n",
    "        \n",
    "        #====================================================#\n",
    "        # YOUR CODE HERE:\n",
    "        #   Implement the Kalman filter recursion.\n",
    "        #====================================================#\n",
    "        \n",
    "\n",
    "        \n",
    "        #====================================================#\n",
    "        # END YOUR CODE\n",
    "        #====================================================#  \n",
    "        \n",
    "        count = count + 1\n",
    "        it_d = np.hstack((M1_c.flatten() - M1_p.flatten(),  M2_c.flatten()-M2_p.flatten()))\n",
    "        \n",
    "    S_st = S_c # steady state covariance\n",
    "    K_st = M2_c # steady state Kalman gain\n",
    "    \n",
    "    return (M1_c,M2_c,S_st,K_st)"
   ]
  },
  {
   "cell_type": "markdown",
   "metadata": {},
   "source": [
    "After writing this function, run the following code to calculate the steady state parameters."
   ]
  },
  {
   "cell_type": "code",
   "execution_count": 8,
   "metadata": {},
   "outputs": [
    {
     "ename": "NameError",
     "evalue": "name 'W' is not defined",
     "output_type": "error",
     "traceback": [
      "\u001b[0;31m---------------------------------------------------------------------------\u001b[0m",
      "\u001b[0;31mNameError\u001b[0m                                 Traceback (most recent call last)",
      "\u001b[0;32m/tmp/ipykernel_36213/3570641638.py\u001b[0m in \u001b[0;36m<module>\u001b[0;34m\u001b[0m\n\u001b[0;32m----> 1\u001b[0;31m \u001b[0mm1\u001b[0m\u001b[0;34m,\u001b[0m\u001b[0mm2\u001b[0m\u001b[0;34m,\u001b[0m\u001b[0m_\u001b[0m\u001b[0;34m,\u001b[0m\u001b[0m_\u001b[0m \u001b[0;34m=\u001b[0m \u001b[0mKalmanSteadyState\u001b[0m\u001b[0;34m(\u001b[0m\u001b[0mA\u001b[0m\u001b[0;34m,\u001b[0m \u001b[0mW\u001b[0m\u001b[0;34m,\u001b[0m \u001b[0mC\u001b[0m\u001b[0;34m,\u001b[0m \u001b[0mQ\u001b[0m\u001b[0;34m)\u001b[0m\u001b[0;34m\u001b[0m\u001b[0;34m\u001b[0m\u001b[0m\n\u001b[0m\u001b[1;32m      2\u001b[0m \u001b[0;34m\u001b[0m\u001b[0m\n\u001b[1;32m      3\u001b[0m \u001b[0mprint\u001b[0m\u001b[0;34m(\u001b[0m\u001b[0mm1\u001b[0m\u001b[0;34m)\u001b[0m\u001b[0;34m\u001b[0m\u001b[0;34m\u001b[0m\u001b[0m\n\u001b[1;32m      4\u001b[0m \u001b[0mprint\u001b[0m\u001b[0;34m(\u001b[0m\u001b[0mnp\u001b[0m\u001b[0;34m.\u001b[0m\u001b[0msum\u001b[0m\u001b[0;34m(\u001b[0m\u001b[0mm2\u001b[0m\u001b[0;34m,\u001b[0m\u001b[0;36m1\u001b[0m\u001b[0;34m)\u001b[0m\u001b[0;34m)\u001b[0m\u001b[0;34m\u001b[0m\u001b[0;34m\u001b[0m\u001b[0m\n",
      "\u001b[0;31mNameError\u001b[0m: name 'W' is not defined"
     ]
    }
   ],
   "source": [
    "m1,m2,_,_ = KalmanSteadyState(A, W, C, Q)\n",
    "\n",
    "print(m1)\n",
    "print(np.sum(m2,1))"
   ]
  },
  {
   "cell_type": "markdown",
   "metadata": {},
   "source": [
    "Answer:\n"
   ]
  },
  {
   "cell_type": "markdown",
   "metadata": {},
   "source": [
    "### (g) (6 points)  Decode using the KF.\n",
    "Using the $\\mathbf{M}_1$ and $\\mathbf{M}_2$ matrix found in part (f), decode the neural activity for each trial in the testing data.\n",
    "\t\tInitialize $\\mathbf{x}_0$ on each trial to be the starting position on the trial, and a velocity of $\\mathbf{0}$.\n",
    "\t\tOn one plot, show the true hand positions.\n",
    "\t\tOn a separate plot, show the positions decoded by the Kalman filter.\n",
    "       \n"
   ]
  },
  {
   "cell_type": "code",
   "execution_count": null,
   "metadata": {},
   "outputs": [],
   "source": [
    "#====================================================#\n",
    "# YOUR CODE HERE:\n",
    "#   Decode the activity using a Kalman filter and\n",
    "#   plot the decoded positions.\n",
    "#====================================================#\n",
    "\n",
    "#====================================================#\n",
    "# END YOUR CODE\n",
    "#====================================================#  "
   ]
  },
  {
   "cell_type": "markdown",
   "metadata": {},
   "source": [
    "Answer:\n"
   ]
  }
 ],
 "metadata": {
  "interpreter": {
   "hash": "9765603ce97f2a42cb841f1738ff93df698dc4f6fb4ff3dec237220abbbf8f84"
  },
  "kernelspec": {
   "display_name": "Python 3.9.7 ('base')",
   "language": "python",
   "name": "python3"
  },
  "language_info": {
   "codemirror_mode": {
    "name": "ipython",
    "version": 3
   },
   "file_extension": ".py",
   "mimetype": "text/x-python",
   "name": "python",
   "nbconvert_exporter": "python",
   "pygments_lexer": "ipython3",
   "version": "3.9.7"
  }
 },
 "nbformat": 4,
 "nbformat_minor": 2
}
