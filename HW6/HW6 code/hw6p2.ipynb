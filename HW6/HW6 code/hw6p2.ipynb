{
 "cells": [
  {
   "cell_type": "markdown",
   "metadata": {},
   "source": [
    "## Homework 6, Problem 2 on population vector and optimal linear estimator\n",
    "\n",
    "ECE C143A/C243A, Spring Quarter 2022, Prof. J.C. Kao, TAs T. Monsoor and W. Yu"
   ]
  },
  {
   "cell_type": "markdown",
   "metadata": {},
   "source": [
    "Total: 30 points.  In this notebook, you will implement an optimal linear estimator decoder."
   ]
  },
  {
   "cell_type": "code",
   "execution_count": 1,
   "metadata": {},
   "outputs": [],
   "source": [
    "import numpy as np\n",
    "import matplotlib.pyplot as plt\n",
    "import scipy.special\n",
    "import scipy.io as sio\n",
    "import math\n",
    "import nsp as nsp\n",
    "import pdb\n",
    "# Load matplotlib images inline\n",
    "%matplotlib inline\n",
    "# Reloading any code written in external .py files.\n",
    "%load_ext autoreload\n",
    "%autoreload 2\n",
    "data = sio.loadmat('JR_2015-12-04_truncated2.mat') # load the .mat file.\n",
    "R = data['R'][0,:]"
   ]
  },
  {
   "cell_type": "markdown",
   "metadata": {},
   "source": [
    "### (a) (4 points) Tuning curve for one neuron"
   ]
  },
  {
   "cell_type": "markdown",
   "metadata": {},
   "source": [
    "Fit a cosine tuning curve for electrode 17. On the same plot, plot the average firing rate for electrode 17 to each of the 8 directions and the fitted tuning curve.  The average firing rate should be computed in a window from [250, 500] ms after trial onset. Reach angle should be on the x-axis and firing rate on the y-axis. \n",
    "\n",
    "Hint: You may reuse code from HW #2 about tuning curve fitting to do this question.  We have provided two functions: calculateFR() and tuning() which ought simplify this question.  Take a look at what they do before calling them.  The function tuning returns the tuning curve of a neuron (i.e., the parameters of the tuning curve $c_0$, $c_1$, $\\theta_0$ such that $f(\\theta)= c_0+c_1 cos(\\theta-\\theta_0)$"
   ]
  },
  {
   "cell_type": "code",
   "execution_count": 6,
   "metadata": {},
   "outputs": [],
   "source": [
    "def calculateFR(i, neuron_idx=16, window=[250,500]):\n",
    "    # Calculates the firing rate of neuron_idx on trial i in the given window range.\n",
    "    # Output units are spikes/s\n",
    "    return float(len(R[i]['spikeRaster'][neuron_idx,window[0]:window[1]].todense().nonzero()[1])) / (window[1] - window[0]) * 1000\n",
    "\n",
    "def tuning(thetas, meanFRs):\n",
    "    # Calculates the parameters of a tuning curve.\n",
    "    F = np.concatenate((np.ones((np.size(thetas), 1)),np.matrix(np.sin(thetas)).T,np.matrix(np.cos(thetas)).T),axis = 1)\n",
    "    \n",
    "    ks = np.linalg.pinv(F)*np.matrix(meanFRs).T\n",
    "    c0 = ks[0]\n",
    "    pd = np.arctan2(ks[1],ks[2])\n",
    "    c1 = ks[1]/np.sin(pd)\n",
    "    \n",
    "    c0 = np.asarray(c0)[0][0]\n",
    "    c1 = np.asarray(c1)[0][0]\n",
    "    pd = np.asarray(pd)[0][0]\n",
    "    return [c0,c1,pd]"
   ]
  },
  {
   "cell_type": "code",
   "execution_count": 53,
   "metadata": {},
   "outputs": [
    {
     "name": "stdout",
     "output_type": "stream",
     "text": [
      "c0=57.733883626115826\n",
      "c1=22.662425288615186\n",
      "theta0=1.4362465767565014 degrees\n"
     ]
    },
    {
     "data": {
      "image/png": "[encoded data removed]",
      "text/plain": [
       "<Figure size 504x360 with 1 Axes>"
      ]
     },
     "metadata": {
      "needs_background": "light"
     },
     "output_type": "display_data"
    }
   ],
   "source": [
    "plt.figure(figsize=(7,5))\n",
    "\n",
    "#====================================================#\n",
    "# YOUR CODE HERE:\n",
    "#   Fit the cosine tuning curve for electrode 17 and plot\n",
    "#     1) the average firing rate for electrode 17 to each of the 8 directions and \n",
    "#     2) the fitted tuning curve.\n",
    "#====================================================#\n",
    "shapes=[]\n",
    "for i in range(506):\n",
    "    shapes.append(R[i]['spikeRaster'].todense().shape[1])\n",
    "\n",
    "\n",
    "FRs=np.empty((R.shape[0]))\n",
    "targets=np.empty((R.shape[0],2))\n",
    "Theta=np.empty(R.shape[0])\n",
    "for i in range(R.shape[0]):\n",
    "    FRs[i]=calculateFR(i)\n",
    "    targets[i,:]=[R[i][\"target\"][0,0],R[i][\"target\"][1,0]]\n",
    "    Theta[i]=np.arctan2(R[i][\"target\"][1,0],R[i][\"target\"][0,0])\n",
    "    \n",
    "\n",
    "Theta=Theta*(Theta>0)+(Theta<0)*(2*np.pi+Theta)\n",
    "# plt.plot(np.degrees(Theta),FRs,\"o\")\n",
    "\n",
    "\n",
    "means=[]\n",
    "for t in np.unique(Theta):\n",
    "    plt.plot(np.degrees(t),np.mean(FRs[Theta==t]),\"o\",color=\"orange\")\n",
    "    means.append(np.mean(FRs[Theta==t]))\n",
    "from sklearn.linear_model import LinearRegression\n",
    "\n",
    "\n",
    "\n",
    "c0,c1,theta0=tuning(np.unique(Theta), means)\n",
    "print(f\"c0={c0}\")\n",
    "print(f\"c1={c1}\")\n",
    "print(f\"theta0={theta0} degrees\")\n",
    "\n",
    "plt.plot(np.degrees(np.arange(0,2*np.pi,0.01)),c0+c1*np.cos(np.arange(0,2*np.pi,0.01)-theta0))\n",
    "#====================================================#\n",
    "# END YOUR CODE\n",
    "#====================================================#   \n",
    "\n",
    "\n",
    "\n",
    "plt.xlabel('Reach angle')\n",
    "plt.ylabel('Firing rate')\n",
    "plt.xlim([0,360])\n",
    "plt.show()"
   ]
  },
  {
   "cell_type": "code",
   "execution_count": 55,
   "metadata": {},
   "outputs": [
    {
     "data": {
      "text/plain": [
       "(96, 1033)"
      ]
     },
     "execution_count": 55,
     "metadata": {},
     "output_type": "execute_result"
    }
   ],
   "source": [
    "R[i]['spikeRaster'].todense().shape"
   ]
  },
  {
   "cell_type": "markdown",
   "metadata": {},
   "source": [
    "### (b) (4 points) Preferred direction and modulation depth"
   ]
  },
  {
   "cell_type": "markdown",
   "metadata": {},
   "source": [
    "Calculate the tuning parameters for every electrode. Pick the top 30 electrodes having the largest values of $|c_1|$ (where $c_1$, from homework #2, is from the tuning curve expression $\\theta_0$ such that $f(\\theta)= c_0+c_1 cos(\\theta-\\theta_0)$. The larger $|c_1|$, the greater the \"modulation depth\" of the electrode.  This modulation depth is defined as the difference in firing rate between the preferred and anti-preferred directions. For each of these top 30 electrodes, plot the preferred direction in polar coordinates. The magnitude of each vector should be $|c_1|$. Do these top 30 neurons span the reaching space well?"
   ]
  },
  {
   "cell_type": "code",
   "execution_count": 69,
   "metadata": {},
   "outputs": [
    {
     "data": {
      "text/plain": [
       "[<matplotlib.lines.Line2D at 0x7f951ecd44f0>]"
      ]
     },
     "execution_count": 69,
     "metadata": {},
     "output_type": "execute_result"
    },
    {
     "data": {
      "image/png": "[encoded data removed]",
      "text/plain": [
       "<Figure size 432x288 with 1 Axes>"
      ]
     },
     "metadata": {
      "needs_background": "light"
     },
     "output_type": "display_data"
    }
   ],
   "source": [
    "#====================================================#\n",
    "# YOUR CODE HERE:\n",
    "#   Generate a polar plot for the top 30 electrodes where \n",
    "#   the angle is the preferred direction of a neuron and \n",
    "#   its magnitude is |c1|.\n",
    "#\n",
    "#   Hint: call plt.polar(top_30_angles, top_30_c1, '*')\n",
    "#====================================================#\n",
    "FRs=np.empty((R.shape[0],96))\n",
    "Theta=np.empty(R.shape[0])\n",
    "for i in range(R.shape[0]):\n",
    "    for j in range(96):\n",
    "        FRs[i,j]=calculateFR(i,neuron_idx=j)\n",
    "    Theta[i]=np.arctan2(R[i][\"target\"][1,0],R[i][\"target\"][0,0])\n",
    "    \n",
    "    \n",
    "C0s=np.empty(96)\n",
    "C1s=np.empty(96)\n",
    "Theta0s=np.empty(96)\n",
    "for i in range(96):\n",
    "    means=[]\n",
    "    for t in np.unique(Theta):\n",
    "        means.append(np.mean(FRs[Theta==t,i]))\n",
    "        \n",
    "    c0,c1,theta0=tuning(np.unique(Theta), means)\n",
    "    \n",
    "    C0s[i]=c0\n",
    "    C1s[i]=c1\n",
    "    Theta0s[i]=theta0\n",
    "    \n",
    "TopInds = np.argpartition(C1s, -30)[-30:]\n",
    "\n",
    "plt.polar(Theta0s[TopInds], C1s[TopInds], '*')\n",
    "\n",
    "\n",
    "#====================================================#\n",
    "# END YOUR CODE\n",
    "#====================================================# "
   ]
  },
  {
   "cell_type": "markdown",
   "metadata": {},
   "source": [
    "Question:  Do these top 30 neurons span the reaching space well?"
   ]
  },
  {
   "cell_type": "markdown",
   "metadata": {},
   "source": [
    "Answer: No, for instance there are no neurons at around the 270 degree location"
   ]
  },
  {
   "cell_type": "markdown",
   "metadata": {},
   "source": [
    "### (c) (4 points) Preparing kinematics for optimal linear estimator. [Code solution provided; please understand it and answer the question.]"
   ]
  },
  {
   "cell_type": "markdown",
   "metadata": {},
   "source": [
    "Fit the preferred directions by building an optimal linear estimator. We’ll use the first 400 trials in the R-struct for training and reserve the last 106 trials for testing our decoder in part (g). Concatenate all the neural data, at 1 ms resolution <br>\n",
    "(hint: use the command `Y = scipy.sparse.hstack(R[0:400]['spikeRaster'])`).\n",
    "\n",
    "Next, bin the millisecond resolution neural data, Y (representing the concatenated millisecond activity across the 400 trials), by counting the spikes in non-overlapping 25 ms bins. (Hint: use the `nsp.bin` function we provided.) \n",
    "\n",
    "To be clear, each row, corresponding to one electrode of neural data, should be binned in non-overlapping 25 ms bins. Name this variable `Y_bin`. Append a row of 1’s at the bottom of `Y_bin` via:\n",
    "`Y_bin= np.vstack((Y_bin,np.ones(np.size(Y_bin,1))))`\n",
    "to allow a bias term to be fit. \n",
    "\n",
    "Similarly, calculate the corresponding hand velocities in 25 ms intervals by using a first order Euler approximation, i.e.,\n",
    "\n",
    "$$v(t) = \\frac{cursorPos[t+25] -cursorPos[t]}{0.025}$$\n",
    "(Hint: Like the neural data, concatenate all the cursor positions, at 1 ms resolution, by using the command `X =scipy.sparse.hstack(R[0:train_num]['cursorPos'])`, then sample these velocities every 25 ms, and call the resultant matrix of velocities `X_bin`. Discard the last bin that does not have 25 ms worth of data.). \n",
    "\n",
    "Note that if you have done everything correctly, then `np.size(Y_bin, 1)` should equal `np.size(X_bin, 1)`. What are the dimensions of `Y_bin` and `X_bin`?\n",
    "\n",
    "(Aside: If you observe the velocities, you’ll notice that they are not as smooth as they could be; this could be improved by using higher-order approximations to compute velocity – however, we wanted to keep the velocity calculation simple in this homework.)"
   ]
  },
  {
   "cell_type": "code",
   "execution_count": null,
   "metadata": {
    "collapsed": true
   },
   "outputs": [],
   "source": [
    "#====================================================#\n",
    "# YOUR CODE HERE:\n",
    "#   Bin the data.\n",
    "#====================================================#\n",
    "dt = 25\n",
    "binnedR = np.empty((0,0),dtype = list)\n",
    "train_num = 400\n",
    "Y = scipy.sparse.hstack(R[0:train_num]['spikeRaster'])\n",
    "X = scipy.sparse.hstack(R[0:train_num]['cursorPos'])\n",
    "X = scipy.sparse.csc_matrix(X)\n",
    "Y_bin = nsp.bin(Y, dt,'sum')\n",
    "Y_bin = np.vstack((Y_bin, np.ones(np.size(Y_bin,1))))\n",
    "\n",
    "X_bin = nsp.bin(X, dt,'first')\n",
    "X_bin = np.diff(X_bin[0:2,:])/dt*1000\n",
    "#====================================================#\n",
    "# END YOUR CODE\n",
    "#====================================================# "
   ]
  },
  {
   "cell_type": "code",
   "execution_count": null,
   "metadata": {
    "collapsed": true
   },
   "outputs": [],
   "source": [
    "print(\"size of Y_bin:\", Y_bin.shape)\n",
    "print(\"size of X_bin:\", X_bin.shape)"
   ]
  },
  {
   "cell_type": "markdown",
   "metadata": {},
   "source": [
    "Question: What are the dimensions of `Y_bin` and `X_bin`?"
   ]
  },
  {
   "cell_type": "markdown",
   "metadata": {},
   "source": [
    "Answer:"
   ]
  },
  {
   "cell_type": "markdown",
   "metadata": {},
   "source": [
    "### (d) (6 points) Fitting the parameters in an OLE"
   ]
  },
  {
   "cell_type": "markdown",
   "metadata": {},
   "source": [
    "Fit the optimal linear estimator that takes your spike counts binned at 25 ms resolution, `Y_bin`, and your sampled velocities every 25 ms, `X_bin`, and calculates the optimal linear decoder via:\n",
    "\n",
    "$$ L = X_{bin} * Y_{bin}^{\\dagger}$$\n",
    "where $Y_{bin}^{\\dagger}$ is the pseudo inverse of $Y_{bin}$, you can use `scipy.linalg.pinv` in python to calculate the pseudo inverse.<br>\n",
    "Consider the top 30 electrodes in part (b). For each of these 30 electrodes, we want to visualize their preferred direction and modulation depth (like we did for the cosine fits of preferred direction). If electrode $i$ is one of these 30 electrodes, plot `L[:, i]` in polar coordinates. (Think about why we can think of `L[:,i]` as a preferred direction and magnitude.)  Does this plot look similar to the plot you derived in part (b)?"
   ]
  },
  {
   "cell_type": "code",
   "execution_count": null,
   "metadata": {
    "collapsed": true
   },
   "outputs": [],
   "source": [
    "#====================================================#\n",
    "# YOUR CODE HERE:\n",
    "#   Fit the OLE matrix L via least squares, and visualize\n",
    "#   L[:,i] for the top 30 electrodes found in part (b) in\n",
    "#   an analogous polar plot.\n",
    "#====================================================#\n",
    "pass\n",
    "#====================================================#\n",
    "# END YOUR CODE\n",
    "#====================================================#"
   ]
  },
  {
   "cell_type": "markdown",
   "metadata": {},
   "source": [
    "Question: Does this plot have better coverage of the entire workspace than the plot you derived in part (b)?"
   ]
  },
  {
   "cell_type": "markdown",
   "metadata": {},
   "source": [
    "Abswer: "
   ]
  },
  {
   "cell_type": "markdown",
   "metadata": {},
   "source": [
    "### (e) (6 points) "
   ]
  },
  {
   "cell_type": "markdown",
   "metadata": {},
   "source": [
    "Using the matrix $L$ you derived in part (d), we will now decode new neural data. Using the last 106 trials, we’ll evaluate how good our optimal linear estimator is. We are going to operate trial by trial. For each trial in the R-struct, bin the neural data at 25 ms resolution. Remember to append a row of 1’s at the bottom of the neural data. Use the matrix $L$ to decode the neural activity and get decoded velocities for each trial. On the same plot, show the decoded trajectory for each trial. Use `R[i]['cursorPos'][0:2,0]` as the starting cursor position on trial $i$, and find position by integrating the decoded velocity. Do the trajectories appear normal, or are there idiosyncracies in the decoder?"
   ]
  },
  {
   "cell_type": "code",
   "execution_count": null,
   "metadata": {
    "collapsed": true
   },
   "outputs": [],
   "source": [
    "plt.figure(figsize=(7,7))\n",
    "#====================================================#\n",
    "# YOUR CODE HERE:\n",
    "#   Decode data for the last 106 trials, and plot the \n",
    "#   decoded positions.  If pos is a 2 x T array holding\n",
    "#   all the decoded positions, you may plot them via:\n",
    "#\n",
    "#     plt.plot(pos[0,:], pos[1,:], '.')\n",
    "#\n",
    "#====================================================#\n",
    "\n",
    "pass\n",
    "#====================================================#\n",
    "# END YOUR CODE\n",
    "#====================================================#"
   ]
  },
  {
   "cell_type": "markdown",
   "metadata": {},
   "source": [
    "Question: Do the trajectories appear normal, or are there idiosyncracies in the decoder?"
   ]
  },
  {
   "cell_type": "markdown",
   "metadata": {},
   "source": [
    "Answer: "
   ]
  },
  {
   "cell_type": "markdown",
   "metadata": {},
   "source": [
    "### (f) (3 points) "
   ]
  },
  {
   "cell_type": "markdown",
   "metadata": {},
   "source": [
    "For the decoder in part (e), what is the average mean-square error in position per trial? (For each time bin in a trial, calculate the squared Euclidean distance between the decoded position and the true hand position. Average all these squared Euclidean distance differences across all time in the trial. Finally, average across all trials.)"
   ]
  },
  {
   "cell_type": "code",
   "execution_count": null,
   "metadata": {
    "collapsed": true
   },
   "outputs": [],
   "source": [
    "#====================================================#\n",
    "# YOUR CODE HERE:\n",
    "#   Calculate the mean-squared error between the decoded\n",
    "#   hand position and the true hand position.  Average\n",
    "#   the squared errors across time; then average the squared\n",
    "#   errors across trials.\n",
    "#====================================================#\n",
    "pass\n",
    "#====================================================#\n",
    "# END YOUR CODE\n",
    "#====================================================#"
   ]
  },
  {
   "cell_type": "markdown",
   "metadata": {},
   "source": [
    "Answer: "
   ]
  },
  {
   "cell_type": "code",
   "execution_count": null,
   "metadata": {
    "collapsed": true
   },
   "outputs": [],
   "source": []
  }
 ],
 "metadata": {
  "kernelspec": {
   "display_name": "Python 3 (ipykernel)",
   "language": "python",
   "name": "python3"
  },
  "language_info": {
   "codemirror_mode": {
    "name": "ipython",
    "version": 3
   },
   "file_extension": ".py",
   "mimetype": "text/x-python",
   "name": "python",
   "nbconvert_exporter": "python",
   "pygments_lexer": "ipython3",
   "version": "3.9.7"
  }
 },
 "nbformat": 4,
 "nbformat_minor": 2
}
