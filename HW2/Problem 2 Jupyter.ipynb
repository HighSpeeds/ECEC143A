{
 "cells": [
  {
   "cell_type": "code",
   "execution_count": 2,
   "id": "6381993e",
   "metadata": {},
   "outputs": [],
   "source": [
    "import numpy as np\n",
    "import matplotlib.pyplot as plt"
   ]
  },
  {
   "cell_type": "markdown",
   "id": "1b6f1351",
   "metadata": {},
   "source": [
    "# Part (f)"
   ]
  },
  {
   "cell_type": "code",
   "execution_count": 24,
   "id": "9cd6dc08",
   "metadata": {},
   "outputs": [],
   "source": [
    "y0=25\n",
    "y120=70\n",
    "y240=10\n",
    "k0,k1,k2=np.dot(np.linalg.inv([[1,0,1],\n",
    "                        [1,np.sqrt(3)/2,-1/2],\n",
    "                        [1,-np.sqrt(3)/2,-1/2]]),[y0,y120,y240])"
   ]
  },
  {
   "cell_type": "code",
   "execution_count": 25,
   "id": "e92c230a",
   "metadata": {},
   "outputs": [
    {
     "data": {
      "image/png": "[encoded data removed]",
      "text/plain": [
       "<Figure size 432x288 with 1 Axes>"
      ]
     },
     "metadata": {
      "needs_background": "light"
     },
     "output_type": "display_data"
    }
   ],
   "source": [
    "theta=np.arange(0,2*np.pi,0.01)\n",
    "f=lambda theta: k0+k1*np.sin(theta)+k2*np.cos(theta)\n",
    "plt.plot(theta,f(theta))\n",
    "plt.axhline(y0,color=\"black\")\n",
    "plt.text(1,y0,\"$y_{0}$\",va=\"bottom\")\n",
    "plt.axhline(y120,color=\"black\")\n",
    "plt.text(1,y120,\"$y_{120}$\",va=\"bottom\")\n",
    "plt.axhline(y240,color=\"black\")\n",
    "plt.text(1,y240,\"$y_{240}$\",va=\"bottom\")\n",
    "plt.ylabel(\"f[Hz]\")\n",
    "plt.xlabel(r\"$\\theta$(degrees)\")\n",
    "plt.xticks(np.linspace(0,2*np.pi,5),np.linspace(0,360,5))\n",
    "plt.show()"
   ]
  },
  {
   "cell_type": "code",
   "execution_count": 49,
   "id": "d4408779",
   "metadata": {},
   "outputs": [
    {
     "name": "stdout",
     "output_type": "stream",
     "text": [
      "c0=35.0\n",
      "c1=36.056\n",
      "theta0=106.102 degrees\n"
     ]
    }
   ],
   "source": [
    "c1=round(np.sqrt(k1**2+k2**2),3)\n",
    "c0=k0\n",
    "theta0=round(np.degrees(np.arctan2(k1,k2)),3)\n",
    "print(f\"c0={c0}\")\n",
    "print(f\"c1={c1}\")\n",
    "print(f\"theta0={theta0} degrees\")"
   ]
  },
  {
   "cell_type": "markdown",
   "id": "676d525f",
   "metadata": {},
   "source": [
    "# Part (G)"
   ]
  },
  {
   "cell_type": "code",
   "execution_count": 66,
   "id": "6f93b43e",
   "metadata": {},
   "outputs": [],
   "source": [
    "theta=np.radians([0,60,120,180,240,300])\n",
    "y=[25,40,70,30,10,15]\n",
    "\n",
    "X=np.array([np.sin(theta),np.cos(theta)]).T"
   ]
  },
  {
   "cell_type": "markdown",
   "id": "8e75598b",
   "metadata": {},
   "source": [
    "we can solve for the values of mean squared error by performing a linear regression over $k_0$, $k_1$, $k_2$"
   ]
  },
  {
   "cell_type": "code",
   "execution_count": 67,
   "id": "0533ac28",
   "metadata": {},
   "outputs": [
    {
     "name": "stdout",
     "output_type": "stream",
     "text": [
      "c0=31.666666666666664\n",
      "c1=25.221\n",
      "theta0=103.373 degrees\n"
     ]
    }
   ],
   "source": [
    "from sklearn.linear_model import LinearRegression\n",
    "\n",
    "reg = LinearRegression().fit(X, y)\n",
    "k0=reg.intercept_\n",
    "k1,k2=reg.coef_\n",
    "c1=round(np.sqrt(k1**2+k2**2),3)\n",
    "c0=k0\n",
    "theta0=round(np.degrees(np.arctan2(k1,k2)),3)\n",
    "print(f\"c0={c0}\")\n",
    "print(f\"c1={c1}\")\n",
    "print(f\"theta0={theta0} degrees\")"
   ]
  },
  {
   "cell_type": "code",
   "execution_count": 68,
   "id": "7ea97411",
   "metadata": {},
   "outputs": [
    {
     "data": {
      "text/plain": [
       "[<matplotlib.lines.Line2D at 0x7fdb0039a910>]"
      ]
     },
     "execution_count": 68,
     "metadata": {},
     "output_type": "execute_result"
    },
    {
     "data": {
      "image/png": "[encoded data removed]",
      "text/plain": [
       "<Figure size 432x288 with 1 Axes>"
      ]
     },
     "metadata": {
      "needs_background": "light"
     },
     "output_type": "display_data"
    }
   ],
   "source": [
    "plt.plot(theta,y,\"o\")\n",
    "theta=np.arange(0,2*np.pi,0.01)\n",
    "f=lambda theta: k0+k1*np.sin(theta)+k2*np.cos(theta)\n",
    "plt.plot(theta,f(theta))\n",
    "\n"
   ]
  }
 ],
 "metadata": {
  "kernelspec": {
   "display_name": "Python 3 (ipykernel)",
   "language": "python",
   "name": "python3"
  },
  "language_info": {
   "codemirror_mode": {
    "name": "ipython",
    "version": 3
   },
   "file_extension": ".py",
   "mimetype": "text/x-python",
   "name": "python",
   "nbconvert_exporter": "python",
   "pygments_lexer": "ipython3",
   "version": "3.9.7"
  }
 },
 "nbformat": 4,
 "nbformat_minor": 5
}
