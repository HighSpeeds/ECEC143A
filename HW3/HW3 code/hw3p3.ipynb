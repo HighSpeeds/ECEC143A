{
 "cells": [
  {
   "cell_type": "markdown",
   "metadata": {},
   "source": [
    "## Homework 3, Problem 3 on inhomogeneous Poisson processes\n",
    "\n",
    "ECE C143A/C243A, Spring Quarter 2022, Prof. J.C. Kao, TAs T. Monsoor, W. Yu.\n"
   ]
  },
  {
   "cell_type": "markdown",
   "metadata": {},
   "source": [
    " In this problem, we will use the same simulated neuron as in\n",
    "  Problem 2, but now the reaching angle $s$ will be time-dependent\n",
    "  with the following form:\n",
    "$$ s(t) = t^2 \\cdot \\pi,$$\n",
    "\n",
    "where $t$ ranges between 0 and 1 second. This will be refered as *s(t)* equation in the questions.\n"
   ]
  },
  {
   "cell_type": "code",
   "execution_count": 1,
   "metadata": {},
   "outputs": [],
   "source": [
    "\"\"\"\n",
    "ECE C143/C243 Homework-3 Problem-3\n",
    "\n",
    "\"\"\"\n",
    "import numpy as np\n",
    "import matplotlib.pyplot as plt\n",
    "import nsp as nsp # these are helper functions that we provide.\n",
    "import scipy.special\n",
    "from scipy.stats import poisson\n",
    "\n",
    "# Load matplotlib images inline\n",
    "%matplotlib inline\n",
    "\n",
    "# Reloading any code written in external .py files.\n",
    "%load_ext autoreload\n",
    "%autoreload 2"
   ]
  },
  {
   "cell_type": "markdown",
   "metadata": {},
   "source": [
    "### (a) (6 points) Spike trains\n",
    "Generate 100 spike trains, each 1 second in duration, according to\n",
    "an inhomogeneous Poisson process with a firing rate profile defined\n",
    "by tuning equation, $$\\lambda(s) = r_0 + (r_\\text{max} - r_0)\\cos(s-s_\\text{max})$$ \n",
    "and the $s(t)$ equation, $$ s(t) = t^2 \\cdot \\pi$$"
   ]
  },
  {
   "cell_type": "code",
   "execution_count": 2,
   "metadata": {},
   "outputs": [],
   "source": [
    "r_0 = 35 # (spikes/s)\n",
    "r_max = 60 # (spikes/s)\n",
    "s_max = np.pi/2 # (radians)\n",
    "T = 1000 # trial length (ms)"
   ]
  },
  {
   "cell_type": "code",
   "execution_count": 3,
   "metadata": {},
   "outputs": [
    {
     "data": {
      "text/plain": [
       "19.359532842136645"
      ]
     },
     "execution_count": 3,
     "metadata": {},
     "output_type": "execute_result"
    }
   ],
   "source": [
    "np.random.exponential(1.0/r_max * 1000)"
   ]
  },
  {
   "cell_type": "code",
   "execution_count": 4,
   "metadata": {
    "scrolled": true
   },
   "outputs": [
    {
     "data": {
      "image/png": "[encoded data removed]",
      "text/plain": [
       "<Figure size 432x288 with 1 Axes>"
      ]
     },
     "metadata": {
      "needs_background": "light"
     },
     "output_type": "display_data"
    }
   ],
   "source": [
    "## 3a\n",
    "num_trials = 100 # number of total spike trains\n",
    "num_rasters_to_plot = 5 # number of spike trains to plot\n",
    "#====================================================#\n",
    "# YOUR CODE HERE:\n",
    "#   Generate the spike times for 100 trials of an inhomogeneous\n",
    "#   Poisson process.  Plot 5 example spike rasters.\n",
    "#====================================================#\n",
    "spike_times = np.empty((num_trials), dtype=list)\n",
    "\n",
    "for trial in range(num_trials):\n",
    "    #generate a homogeneous possion process\n",
    "    spike_train=list(nsp.GeneratePoissonSpikeTrain( T, r_max ))\n",
    "    #thin it\n",
    "    spikes_to_keep=[]\n",
    "    for t in spike_train:\n",
    "        s=(t/1000)**2*np.pi\n",
    "        l=r_0+(r_max-r_0)*np.cos(s-s_max)\n",
    "        p=l/r_max\n",
    "        if np.random.random()<p:\n",
    "            spikes_to_keep.append(t)\n",
    "    spike_times[trial]=np.array(spikes_to_keep)\n",
    "nsp.PlotSpikeRaster(spike_times[:num_rasters_to_plot])\n",
    "    \n",
    "\n",
    "#====================================================#\n",
    "# END YOUR CODE\n",
    "#====================================================#\n"
   ]
  },
  {
   "cell_type": "markdown",
   "metadata": {},
   "source": [
    "### (b) (5 points) Spike histogram\n",
    "  Plot the spike histogram by taking spike counts in non-overlapping\n",
    "  20 ms bins, then averaging across the 100 trials.  The spike\n",
    "  histogram should have firing rate (in spikes / second) as the\n",
    "  vertical axis and time (in msec, not time bin index) as the\n",
    "  horizontal axis. Plot the expected firing rate profile defined by equations\n",
    " tuning equation and *s(t)* equation on the same plot. "
   ]
  },
  {
   "cell_type": "code",
   "execution_count": 5,
   "metadata": {},
   "outputs": [
    {
     "data": {
      "text/plain": [
       "Text(0.5, 0, 'Time(ms)')"
      ]
     },
     "execution_count": 5,
     "metadata": {},
     "output_type": "execute_result"
    },
    {
     "data": {
      "image/png": "[encoded data removed]",
      "text/plain": [
       "<Figure size 432x288 with 1 Axes>"
      ]
     },
     "metadata": {
      "needs_background": "light"
     },
     "output_type": "display_data"
    }
   ],
   "source": [
    "# 3b\n",
    "bin_width = 20 # (ms)\n",
    "#====================================================#\n",
    "# YOUR CODE HERE:\n",
    "#   Plot the spike histogram\n",
    "#====================================================#\n",
    "bins=np.arange(0,1000//bin_width)*bin_width\n",
    "counts=np.zeros(1000//bin_width)\n",
    "for rep in range(num_trials):\n",
    "    rbins,rcounts=np.unique(spike_times[rep][0:]//bin_width,return_counts=True)\n",
    "    for i,b in enumerate(rbins):\n",
    "        counts[int(b)]+=rcounts[i]\n",
    "plt.bar(bins,(counts/num_trials)/(20*10**-3),width=20)\n",
    "s=(bins/1000)**2*np.pi\n",
    "l=r_0+(r_max-r_0)*np.cos(s-s_max)\n",
    "plt.plot(bins,l,color=\"black\")\n",
    "#====================================================#\n",
    "# END YOUR CODE\n",
    "#====================================================#\n",
    "\n",
    "plt.ylabel('spikes/s')\n",
    "plt.xlabel('Time(ms)')"
   ]
  },
  {
   "cell_type": "markdown",
   "metadata": {},
   "source": [
    "#### Question:\n",
    "Does the spike histogram agree with the expected firing rate profile?"
   ]
  },
  {
   "cell_type": "markdown",
   "metadata": {},
   "source": [
    "#### Your Answer:\n",
    "Yes"
   ]
  },
  {
   "cell_type": "markdown",
   "metadata": {},
   "source": [
    "### (c) (6 points) Count distribution\n",
    "  For each trial, count the number of spikes across the entire trial.\n",
    "  Plot the normalized distribution of spike counts.  Fit a Poisson\n",
    "  distribution to this empirical distribution and plot it on top of\n",
    "  the empirical distribution.  "
   ]
  },
  {
   "cell_type": "code",
   "execution_count": 6,
   "metadata": {},
   "outputs": [
    {
     "data": {
      "image/png": "[encoded data removed]",
      "text/plain": [
       "<Figure size 432x288 with 1 Axes>"
      ]
     },
     "metadata": {
      "needs_background": "light"
     },
     "output_type": "display_data"
    }
   ],
   "source": [
    "#====================================================#\n",
    "# YOUR CODE HERE:\n",
    "#   Plot the normalized distribution of spike counts\n",
    "#====================================================#\n",
    "N_spikes=np.empty(num_trials)\n",
    "for trial in range(num_trials):\n",
    "    N_spikes[trial]=spike_times[trial].shape[0]\n",
    "\n",
    "plt.hist(N_spikes,density=True)\n",
    "plt.xlim(0,100)\n",
    "plt.plot(np.arange(0,100),poisson.pmf(np.arange(0,100), np.mean(N_spikes)))\n",
    "#====================================================#\n",
    "# END YOUR CODE\n",
    "#====================================================#\n",
    "plt.xlabel('spike count')\n",
    "plt.ylabel('p(spikecount)')\n",
    "plt.show()"
   ]
  },
  {
   "cell_type": "markdown",
   "metadata": {},
   "source": [
    "#### Question:\n",
    "Should we expect the spike counts to be Poisson-distributed?"
   ]
  },
  {
   "cell_type": "markdown",
   "metadata": {},
   "source": [
    "#### Your Answer:\n",
    "Yes, because the spike counts of a inhomogeneous Possion process is still a possion distribution."
   ]
  },
  {
   "cell_type": "markdown",
   "metadata": {},
   "source": [
    "### (d) (5 points) ISI distribution\n",
    "  Plot the normalized distribution of ISIs.  Fit an exponential\n",
    "  distribution to the empirical distribution and plot it on top of the\n",
    "  empirical distribution. "
   ]
  },
  {
   "cell_type": "code",
   "execution_count": 7,
   "metadata": {},
   "outputs": [
    {
     "data": {
      "image/png": "[encoded data removed]",
      "text/plain": [
       "<Figure size 432x288 with 1 Axes>"
      ]
     },
     "metadata": {
      "needs_background": "light"
     },
     "output_type": "display_data"
    }
   ],
   "source": [
    "#====================================================#\n",
    "# YOUR CODE HERE:\n",
    "#   Plot the normalized distribution of ISIs\n",
    "#====================================================#\n",
    "ISI=[]\n",
    "for trial in range(num_trials):\n",
    "    ISI+=list(spike_times[trial][1:]-spike_times[trial][:-1])\n",
    "plt.hist(ISI,density=True)\n",
    "l=1/np.mean(ISI)\n",
    "plt.plot(np.arange(0,T),l*np.exp(-l*np.arange(0,T)),\"black\")\n",
    "#====================================================#\n",
    "# END YOUR CODE\n",
    "#====================================================#\n",
    "plt.xlabel('ISI (ms)')\n",
    "plt.ylabel('P(ISI)')\n",
    "plt.show()"
   ]
  },
  {
   "cell_type": "markdown",
   "metadata": {},
   "source": [
    "#### Question: \n",
    "Should we expect the ISIs to be exponentially-distributed?\n",
    "(Note, it is possible for the  empirical distribution to strongly resemble an exponential distribution even if the data aren't exponentially distributed.)"
   ]
  },
  {
   "cell_type": "markdown",
   "metadata": {},
   "source": [
    "#### Your Answer:\n",
    "No, because it is an inhomogenous possion process"
   ]
  }
 ],
 "metadata": {
  "kernelspec": {
   "display_name": "Python 3 (ipykernel)",
   "language": "python",
   "name": "python3"
  },
  "language_info": {
   "codemirror_mode": {
    "name": "ipython",
    "version": 3
   },
   "file_extension": ".py",
   "mimetype": "text/x-python",
   "name": "python",
   "nbconvert_exporter": "python",
   "pygments_lexer": "ipython3",
   "version": "3.9.7"
  }
 },
 "nbformat": 4,
 "nbformat_minor": 2
}
